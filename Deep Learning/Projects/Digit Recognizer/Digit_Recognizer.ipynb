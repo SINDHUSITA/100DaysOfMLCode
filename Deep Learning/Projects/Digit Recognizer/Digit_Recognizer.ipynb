{
  "nbformat": 4,
  "nbformat_minor": 0,
  "metadata": {
    "colab": {
      "name": "Digit_Recognizer_Kaggle.ipynb",
      "provenance": [],
      "collapsed_sections": []
    },
    "kernelspec": {
      "name": "python3",
      "display_name": "Python 3"
    },
    "accelerator": "TPU"
  },
  "cells": [
    {
      "cell_type": "markdown",
      "metadata": {
        "id": "doc1QpYZRI3k",
        "colab_type": "text"
      },
      "source": [
        "#**Digit Recognizer**\n"
      ]
    },
    {
      "cell_type": "markdown",
      "metadata": {
        "id": "lFPjPgClRMDA",
        "colab_type": "text"
      },
      "source": [
        "##Importing Required Packages"
      ]
    },
    {
      "cell_type": "code",
      "metadata": {
        "id": "kem4D_7dPsyQ",
        "colab_type": "code",
        "colab": {}
      },
      "source": [
        "import tensorflow as tf\n",
        "from tensorflow import keras\n",
        "import pandas as pd\n",
        "import numpy as np\n",
        "import sklearn"
      ],
      "execution_count": null,
      "outputs": []
    },
    {
      "cell_type": "markdown",
      "metadata": {
        "id": "_4tubjYtRa05",
        "colab_type": "text"
      },
      "source": [
        "##Importing Data"
      ]
    },
    {
      "cell_type": "code",
      "metadata": {
        "id": "W2mDAiZYRHOZ",
        "colab_type": "code",
        "colab": {
          "base_uri": "https://localhost:8080/",
          "height": 34
        },
        "outputId": "30824725-fa63-4d80-c1e4-737e8265751c"
      },
      "source": [
        "train = pd.read_csv(\"train.csv\")\n",
        "X = train.iloc[:,1:].values\n",
        "y = train.iloc[:,0:1].values\n",
        "print(X.shape,y.shape)"
      ],
      "execution_count": null,
      "outputs": [
        {
          "output_type": "stream",
          "text": [
            "(42000, 784) (42000, 1)\n"
          ],
          "name": "stdout"
        }
      ]
    },
    {
      "cell_type": "markdown",
      "metadata": {
        "id": "hEaRGggyTAtf",
        "colab_type": "text"
      },
      "source": [
        "##Spliting Data"
      ]
    },
    {
      "cell_type": "code",
      "metadata": {
        "id": "MVAwtWPQSdE1",
        "colab_type": "code",
        "colab": {
          "base_uri": "https://localhost:8080/",
          "height": 34
        },
        "outputId": "698c7218-2811-46cf-e2be-a6da6b9757b2"
      },
      "source": [
        "from sklearn.model_selection import train_test_split\n",
        "X_train, X_test, y_train, y_test = train_test_split(X, y, test_size=0.25, random_state=0)\n",
        "print(X_train.shape, X_test.shape, y_train.shape, y_test.shape)"
      ],
      "execution_count": null,
      "outputs": [
        {
          "output_type": "stream",
          "text": [
            "(31500, 784) (10500, 784) (31500, 1) (10500, 1)\n"
          ],
          "name": "stdout"
        }
      ]
    },
    {
      "cell_type": "markdown",
      "metadata": {
        "id": "4n7DvcT5VC6d",
        "colab_type": "text"
      },
      "source": [
        "##Buliding a Deep Learning Model"
      ]
    },
    {
      "cell_type": "code",
      "metadata": {
        "id": "yCgC5TihT-J_",
        "colab_type": "code",
        "colab": {
          "base_uri": "https://localhost:8080/",
          "height": 374
        },
        "outputId": "e97578eb-963d-4fc3-fbd3-8c662ed0d5b6"
      },
      "source": [
        "X_train = X_train/255.0\n",
        "X_test = X_test/255.0\n",
        "\n",
        "X_train = X_train.reshape(X_train.shape[0], 28, 28, 1)\n",
        "X_test = X_test.reshape(X_test.shape[0], 28, 28, 1)\n",
        "\n",
        "model = tf.keras.models.Sequential([tf.keras.layers.Conv2D(32, (3,3), activation='relu'),\n",
        "                                    tf.keras.layers.MaxPooling2D(2, 2),\n",
        "                                    tf.keras.layers.Conv2D(64, (3,3), activation='relu'),\n",
        "                                    tf.keras.layers.MaxPooling2D(2,2),\n",
        "                                    tf.keras.layers.Dropout(0.25),\n",
        "                                    tf.keras.layers.Flatten(), \n",
        "                                    tf.keras.layers.Dropout(0.5),\n",
        "                                    tf.keras.layers.Dense(1024, activation=tf.nn.relu),\n",
        "                                    tf.keras.layers.Dense(1024, activation=tf.nn.relu),\n",
        "                                    tf.keras.layers.Dense(10, activation=tf.nn.softmax)])\n",
        "model.compile(optimizer = tf.optimizers.Adam(),\n",
        "              loss = 'sparse_categorical_crossentropy',\n",
        "              metrics=['accuracy'])\n",
        "\n",
        "model.fit(X_train, y_train, epochs=10, batch_size=128)"
      ],
      "execution_count": null,
      "outputs": [
        {
          "output_type": "stream",
          "text": [
            "Epoch 1/10\n",
            "247/247 [==============================] - 33s 133ms/step - loss: 0.2948 - accuracy: 0.9046\n",
            "Epoch 2/10\n",
            "247/247 [==============================] - 33s 133ms/step - loss: 0.1029 - accuracy: 0.9665\n",
            "Epoch 3/10\n",
            "247/247 [==============================] - 33s 133ms/step - loss: 0.0815 - accuracy: 0.9743\n",
            "Epoch 4/10\n",
            "247/247 [==============================] - 33s 132ms/step - loss: 0.0696 - accuracy: 0.9780\n",
            "Epoch 5/10\n",
            "247/247 [==============================] - 33s 132ms/step - loss: 0.0530 - accuracy: 0.9833\n",
            "Epoch 6/10\n",
            "247/247 [==============================] - 33s 132ms/step - loss: 0.0493 - accuracy: 0.9847\n",
            "Epoch 7/10\n",
            "247/247 [==============================] - 33s 133ms/step - loss: 0.0414 - accuracy: 0.9865\n",
            "Epoch 8/10\n",
            "247/247 [==============================] - 33s 133ms/step - loss: 0.0452 - accuracy: 0.9854\n",
            "Epoch 9/10\n",
            "247/247 [==============================] - 33s 132ms/step - loss: 0.0370 - accuracy: 0.9885\n",
            "Epoch 10/10\n",
            "247/247 [==============================] - 33s 132ms/step - loss: 0.0373 - accuracy: 0.9875\n"
          ],
          "name": "stdout"
        },
        {
          "output_type": "execute_result",
          "data": {
            "text/plain": [
              "<tensorflow.python.keras.callbacks.History at 0x7f242d876160>"
            ]
          },
          "metadata": {
            "tags": []
          },
          "execution_count": 4
        }
      ]
    },
    {
      "cell_type": "code",
      "metadata": {
        "id": "RTxmf-lzVtUk",
        "colab_type": "code",
        "colab": {
          "base_uri": "https://localhost:8080/",
          "height": 51
        },
        "outputId": "cae1c833-22d1-4f94-f640-c802b0ef2c91"
      },
      "source": [
        "model.evaluate(X_test, y_test)"
      ],
      "execution_count": null,
      "outputs": [
        {
          "output_type": "stream",
          "text": [
            "329/329 [==============================] - 4s 12ms/step - loss: 0.0395 - accuracy: 0.9881\n"
          ],
          "name": "stdout"
        },
        {
          "output_type": "execute_result",
          "data": {
            "text/plain": [
              "[0.03949173912405968, 0.988095223903656]"
            ]
          },
          "metadata": {
            "tags": []
          },
          "execution_count": 5
        }
      ]
    },
    {
      "cell_type": "markdown",
      "metadata": {
        "id": "VdsHAOiZJiIH",
        "colab_type": "text"
      },
      "source": [
        "## Model Evaluation and Testing"
      ]
    },
    {
      "cell_type": "code",
      "metadata": {
        "id": "lM0K1qwwWI0G",
        "colab_type": "code",
        "colab": {
          "base_uri": "https://localhost:8080/",
          "height": 34
        },
        "outputId": "6d6d660d-a329-4746-b397-573fd91c0c02"
      },
      "source": [
        "test = pd.read_csv('test.csv')\n",
        "test = test.values\n",
        "test = test.reshape(test.shape[0], 28, 28, 1)\n",
        "test = test / 255.0\n",
        "\n",
        "y_pred = model.predict(test)\n",
        "print(y_pred.shape)"
      ],
      "execution_count": null,
      "outputs": [
        {
          "output_type": "stream",
          "text": [
            "(28000, 10)\n"
          ],
          "name": "stdout"
        }
      ]
    },
    {
      "cell_type": "markdown",
      "metadata": {
        "id": "um_Lb5B3nBEZ",
        "colab_type": "text"
      },
      "source": [
        "## Saving the final results file for submission"
      ]
    },
    {
      "cell_type": "code",
      "metadata": {
        "id": "os2842gsY67R",
        "colab_type": "code",
        "colab": {
          "base_uri": "https://localhost:8080/",
          "height": 170
        },
        "outputId": "32800bd7-9a46-43a7-e24f-b8939521dbf2"
      },
      "source": [
        "sample = pd.read_csv('sample_submission.csv')\n",
        "final = []\n",
        "for i in y_pred:\n",
        "  final.append(np.argmax(i))\n",
        "print(final[0:5])\n",
        "print(final[-5:-1])\n",
        "print(len(final))\n",
        "print(sample.shape)\n",
        "print(sample[-5:-1])"
      ],
      "execution_count": null,
      "outputs": [
        {
          "output_type": "stream",
          "text": [
            "[2, 0, 9, 9, 3]\n",
            "[9, 7, 3, 9]\n",
            "28000\n",
            "(28000, 2)\n",
            "       ImageId  Label\n",
            "27995    27996      0\n",
            "27996    27997      0\n",
            "27997    27998      0\n",
            "27998    27999      0\n"
          ],
          "name": "stdout"
        }
      ]
    },
    {
      "cell_type": "code",
      "metadata": {
        "id": "OX_oyzggWbca",
        "colab_type": "code",
        "colab": {
          "base_uri": "https://localhost:8080/",
          "height": 51
        },
        "outputId": "54d3de34-2c08-4bde-b720-35bdc03c5b0c"
      },
      "source": [
        "Ids = np.arange(1,28001)\n",
        "df = pd.DataFrame(data={'ImageId':Ids,\"Label\": final})\n",
        "print(df.shape)\n",
        "print(sample.shape)\n",
        "df.to_csv(\"./digit_results.csv\", sep=',',index=False)"
      ],
      "execution_count": null,
      "outputs": [
        {
          "output_type": "stream",
          "text": [
            "(28000, 2)\n",
            "(28000, 2)\n"
          ],
          "name": "stdout"
        }
      ]
    },
    {
      "cell_type": "markdown",
      "metadata": {
        "id": "bb3I2aWr_t5v",
        "colab_type": "text"
      },
      "source": [
        "## Using Real World Images"
      ]
    },
    {
      "cell_type": "code",
      "metadata": {
        "id": "zWnn2aQpuDxt",
        "colab_type": "code",
        "colab": {
          "base_uri": "https://localhost:8080/",
          "height": 283
        },
        "outputId": "439f9833-5e38-417e-a8c4-a9f9aac65ea6"
      },
      "source": [
        "import cv2\n",
        "from keras.preprocessing import image\n",
        "\n",
        "path = '/content/' + '3.png'\n",
        "img = image.load_img(path, target_size=(28,28),color_mode='grayscale')\n",
        "x = image.img_to_array(img)\n",
        "x = x.reshape(1,28,28,1)\n",
        "x/=255\n",
        "classes = model.predict(x)\n",
        "\n",
        "import matplotlib.pyplot as plt\n",
        "plt.imshow(img)\n",
        "plt.show()\n",
        "\n",
        "# print(classes[0])\n",
        "print('Above Image identified as: ',np.argmax(classes[0]))"
      ],
      "execution_count": 55,
      "outputs": [
        {
          "output_type": "display_data",
          "data": {
            "image/png": "[encoded data removed]",
            "text/plain": [
              "<Figure size 432x288 with 1 Axes>"
            ]
          },
          "metadata": {
            "tags": [],
            "needs_background": "light"
          }
        },
        {
          "output_type": "stream",
          "text": [
            "Above Image identified as:  3\n"
          ],
          "name": "stdout"
        }
      ]
    }
  ]
}