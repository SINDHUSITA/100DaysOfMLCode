{
  "nbformat": 4,
  "nbformat_minor": 0,
  "metadata": {
    "colab": {
      "name": "Widhya - DL.ipynb",
      "provenance": [],
      "authorship_tag": "ABX9TyOnFUSqbtwz9voLCzIgnV8L",
      "include_colab_link": true
    },
    "kernelspec": {
      "name": "python3",
      "display_name": "Python 3"
    }
  },
  "cells": [
    {
      "cell_type": "markdown",
      "metadata": {
        "id": "view-in-github",
        "colab_type": "text"
      },
      "source": [
        "<a href=\"https://colab.research.google.com/github/SINDHUSITA/100DaysOfMLCode/blob/master/Widhya%20IIP/Deep%20Learning/Widhya_DL.ipynb\" target=\"_parent\"><img src=\"https://colab.research.google.com/assets/colab-badge.svg\" alt=\"Open In Colab\"/></a>"
      ]
    },
    {
      "cell_type": "code",
      "metadata": {
        "id": "RPwkd4ibml40",
        "colab_type": "code",
        "colab": {
          "base_uri": "https://localhost:8080/",
          "height": 72
        },
        "outputId": "41fc99a4-b1c9-4f36-a9f5-c44fd1e90af0"
      },
      "source": [
        "import pandas as pd\n",
        "sin_data = pd.read_csv('https://raw.githubusercontent.com/DeepShiz/Artificial-Neural-Network/master/sin_data.csv')\n",
        "print(sin_data.loc[sin_data['x'] == -3.646266])\n",
        "# print(sin_data.iloc[209])\n"
      ],
      "execution_count": 34,
      "outputs": [
        {
          "output_type": "stream",
          "text": [
            "Empty DataFrame\n",
            "Columns: [x, sin_x, Unnamed: 2]\n",
            "Index: []\n"
          ],
          "name": "stdout"
        }
      ]
    },
    {
      "cell_type": "code",
      "metadata": {
        "id": "2wWK1q_MmxKW",
        "colab_type": "code",
        "colab": {
          "base_uri": "https://localhost:8080/",
          "height": 35
        },
        "outputId": "5f43fed7-cf63-4a46-9c46-0c9597d93f20"
      },
      "source": [
        "sin_data['x'] = [round(a,4) for a in sin_data['x']]\n",
        "sin_data['sin_x'] = [round(a,4) for a in sin_data['sin_x']]\n",
        "# print(sin_data.head())\n",
        "# print(sin_data.iloc[209])\n",
        "print(float(sin_data.loc[sin_data['x'] == round(-3.646266,4)]['sin_x']))\n",
        "# round(-3.646266172238756,4)"
      ],
      "execution_count": 48,
      "outputs": [
        {
          "output_type": "stream",
          "text": [
            "0.4835\n"
          ],
          "name": "stdout"
        }
      ]
    },
    {
      "cell_type": "code",
      "metadata": {
        "id": "6b4VsZ6Fm_GK",
        "colab_type": "code",
        "colab": {}
      },
      "source": [
        ""
      ],
      "execution_count": null,
      "outputs": []
    }
  ]
}