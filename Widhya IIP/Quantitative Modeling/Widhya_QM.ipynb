{
  "nbformat": 4,
  "nbformat_minor": 0,
  "metadata": {
    "colab": {
      "name": "Widhya - QM.ipynb",
      "provenance": [],
      "collapsed_sections": [],
      "include_colab_link": true
    },
    "kernelspec": {
      "name": "python3",
      "display_name": "Python 3"
    }
  },
  "cells": [
    {
      "cell_type": "markdown",
      "metadata": {
        "id": "view-in-github",
        "colab_type": "text"
      },
      "source": [
        "<a href=\"https://colab.research.google.com/github/SINDHUSITA/100DaysOfMLCode/blob/master/Widhya%20IIP/Quantitative%20Modeling/Widhya_QM.ipynb\" target=\"_parent\"><img src=\"https://colab.research.google.com/assets/colab-badge.svg\" alt=\"Open In Colab\"/></a>"
      ]
    },
    {
      "cell_type": "code",
      "metadata": {
        "id": "sl7e4kj9Cg3Q",
        "colab_type": "code",
        "colab": {}
      },
      "source": [
        "import pandas as pd\n",
        "data = pd.read_csv('https://raw.githubusercontent.com/WidhyaOrg/datasets/master/covid19.csv')"
      ],
      "execution_count": null,
      "outputs": []
    },
    {
      "cell_type": "code",
      "metadata": {
        "id": "BJlGPKnDCdwm",
        "colab_type": "code",
        "colab": {
          "base_uri": "https://localhost:8080/",
          "height": 254
        },
        "outputId": "4470a33b-4ba2-443e-f3ba-de11c9fbef18"
      },
      "source": [
        "data.head()\n",
        "data_set = data.groupby(['Date'], sort=False).sum()\n",
        "dataset = pd.DataFrame(data_set)\n",
        "print(data.columns)\n",
        "print(dataset.head())\n",
        "print(dataset.columns)"
      ],
      "execution_count": null,
      "outputs": [
        {
          "output_type": "stream",
          "text": [
            "Index(['Sno', 'Date', 'State/UnionTerritory', 'ConfirmedIndianNational',\n",
            "       'ConfirmedForeignNational', 'Cured', 'Deaths'],\n",
            "      dtype='object')\n",
            "          Sno  ConfirmedIndianNational  ConfirmedForeignNational  Cured  Deaths\n",
            "Date                                                                           \n",
            "30/01/20    1                        1                         0      0       0\n",
            "31/01/20    2                        1                         0      0       0\n",
            "01/02/20    3                        2                         0      0       0\n",
            "02/02/20    4                        3                         0      0       0\n",
            "03/02/20    5                        3                         0      0       0\n",
            "Index(['Sno', 'ConfirmedIndianNational', 'ConfirmedForeignNational', 'Cured',\n",
            "       'Deaths'],\n",
            "      dtype='object')\n"
          ],
          "name": "stdout"
        }
      ]
    },
    {
      "cell_type": "code",
      "metadata": {
        "id": "0U9tullBCyKK",
        "colab_type": "code",
        "colab": {}
      },
      "source": [
        "dataset['totals'] = dataset.ConfirmedForeignNational + dataset.ConfirmedIndianNational + dataset.Cured + dataset.Deaths"
      ],
      "execution_count": null,
      "outputs": []
    },
    {
      "cell_type": "code",
      "metadata": {
        "id": "SdvNtrXkH4m1",
        "colab_type": "code",
        "colab": {
          "base_uri": "https://localhost:8080/",
          "height": 235
        },
        "outputId": "9ca8f18e-7644-45bc-cd8c-69594f420269"
      },
      "source": [
        "# dataset.drop(columns=['ConfirmedForeignNational','ConfirmedIndianNational'],inplace=True)\n",
        "dataset.head()"
      ],
      "execution_count": null,
      "outputs": [
        {
          "output_type": "execute_result",
          "data": {
            "text/html": [
              "<div>\n",
              "<style scoped>\n",
              "    .dataframe tbody tr th:only-of-type {\n",
              "        vertical-align: middle;\n",
              "    }\n",
              "\n",
              "    .dataframe tbody tr th {\n",
              "        vertical-align: top;\n",
              "    }\n",
              "\n",
              "    .dataframe thead th {\n",
              "        text-align: right;\n",
              "    }\n",
              "</style>\n",
              "<table border=\"1\" class=\"dataframe\">\n",
              "  <thead>\n",
              "    <tr style=\"text-align: right;\">\n",
              "      <th></th>\n",
              "      <th>Sno</th>\n",
              "      <th>ConfirmedIndianNational</th>\n",
              "      <th>ConfirmedForeignNational</th>\n",
              "      <th>Cured</th>\n",
              "      <th>Deaths</th>\n",
              "      <th>totals</th>\n",
              "    </tr>\n",
              "    <tr>\n",
              "      <th>Date</th>\n",
              "      <th></th>\n",
              "      <th></th>\n",
              "      <th></th>\n",
              "      <th></th>\n",
              "      <th></th>\n",
              "      <th></th>\n",
              "    </tr>\n",
              "  </thead>\n",
              "  <tbody>\n",
              "    <tr>\n",
              "      <th>30/01/20</th>\n",
              "      <td>1</td>\n",
              "      <td>1</td>\n",
              "      <td>0</td>\n",
              "      <td>0</td>\n",
              "      <td>0</td>\n",
              "      <td>1</td>\n",
              "    </tr>\n",
              "    <tr>\n",
              "      <th>31/01/20</th>\n",
              "      <td>2</td>\n",
              "      <td>1</td>\n",
              "      <td>0</td>\n",
              "      <td>0</td>\n",
              "      <td>0</td>\n",
              "      <td>1</td>\n",
              "    </tr>\n",
              "    <tr>\n",
              "      <th>01/02/20</th>\n",
              "      <td>3</td>\n",
              "      <td>2</td>\n",
              "      <td>0</td>\n",
              "      <td>0</td>\n",
              "      <td>0</td>\n",
              "      <td>2</td>\n",
              "    </tr>\n",
              "    <tr>\n",
              "      <th>02/02/20</th>\n",
              "      <td>4</td>\n",
              "      <td>3</td>\n",
              "      <td>0</td>\n",
              "      <td>0</td>\n",
              "      <td>0</td>\n",
              "      <td>3</td>\n",
              "    </tr>\n",
              "    <tr>\n",
              "      <th>03/02/20</th>\n",
              "      <td>5</td>\n",
              "      <td>3</td>\n",
              "      <td>0</td>\n",
              "      <td>0</td>\n",
              "      <td>0</td>\n",
              "      <td>3</td>\n",
              "    </tr>\n",
              "  </tbody>\n",
              "</table>\n",
              "</div>"
            ],
            "text/plain": [
              "          Sno  ConfirmedIndianNational  ...  Deaths  totals\n",
              "Date                                    ...                \n",
              "30/01/20    1                        1  ...       0       1\n",
              "31/01/20    2                        1  ...       0       1\n",
              "01/02/20    3                        2  ...       0       2\n",
              "02/02/20    4                        3  ...       0       3\n",
              "03/02/20    5                        3  ...       0       3\n",
              "\n",
              "[5 rows x 6 columns]"
            ]
          },
          "metadata": {
            "tags": []
          },
          "execution_count": 5
        }
      ]
    },
    {
      "cell_type": "code",
      "metadata": {
        "id": "isNRfcoPH7fL",
        "colab_type": "code",
        "colab": {
          "base_uri": "https://localhost:8080/",
          "height": 252
        },
        "outputId": "b82a7ae6-6bce-489a-fb8e-fb75ae07f842"
      },
      "source": [
        "for i in range(0,dataset.shape[0]):\n",
        "  if(dataset.iloc[i].name == '04/03/20'):\n",
        "    print(dataset.iloc[i][-1])\n",
        "\n",
        "dataset.tail()"
      ],
      "execution_count": null,
      "outputs": [
        {
          "output_type": "stream",
          "text": [
            "31\n"
          ],
          "name": "stdout"
        },
        {
          "output_type": "execute_result",
          "data": {
            "text/html": [
              "<div>\n",
              "<style scoped>\n",
              "    .dataframe tbody tr th:only-of-type {\n",
              "        vertical-align: middle;\n",
              "    }\n",
              "\n",
              "    .dataframe tbody tr th {\n",
              "        vertical-align: top;\n",
              "    }\n",
              "\n",
              "    .dataframe thead th {\n",
              "        text-align: right;\n",
              "    }\n",
              "</style>\n",
              "<table border=\"1\" class=\"dataframe\">\n",
              "  <thead>\n",
              "    <tr style=\"text-align: right;\">\n",
              "      <th></th>\n",
              "      <th>Sno</th>\n",
              "      <th>ConfirmedIndianNational</th>\n",
              "      <th>ConfirmedForeignNational</th>\n",
              "      <th>Cured</th>\n",
              "      <th>Deaths</th>\n",
              "      <th>totals</th>\n",
              "    </tr>\n",
              "    <tr>\n",
              "      <th>Date</th>\n",
              "      <th></th>\n",
              "      <th></th>\n",
              "      <th></th>\n",
              "      <th></th>\n",
              "      <th></th>\n",
              "      <th></th>\n",
              "    </tr>\n",
              "  </thead>\n",
              "  <tbody>\n",
              "    <tr>\n",
              "      <th>17/03/20</th>\n",
              "      <td>2775</td>\n",
              "      <td>113</td>\n",
              "      <td>24</td>\n",
              "      <td>14</td>\n",
              "      <td>3</td>\n",
              "      <td>154</td>\n",
              "    </tr>\n",
              "    <tr>\n",
              "      <th>18/03/20</th>\n",
              "      <td>3417</td>\n",
              "      <td>126</td>\n",
              "      <td>25</td>\n",
              "      <td>14</td>\n",
              "      <td>3</td>\n",
              "      <td>168</td>\n",
              "    </tr>\n",
              "    <tr>\n",
              "      <th>19/03/20</th>\n",
              "      <td>4161</td>\n",
              "      <td>148</td>\n",
              "      <td>25</td>\n",
              "      <td>20</td>\n",
              "      <td>4</td>\n",
              "      <td>197</td>\n",
              "    </tr>\n",
              "    <tr>\n",
              "      <th>20/03/20</th>\n",
              "      <td>4770</td>\n",
              "      <td>191</td>\n",
              "      <td>32</td>\n",
              "      <td>23</td>\n",
              "      <td>4</td>\n",
              "      <td>250</td>\n",
              "    </tr>\n",
              "    <tr>\n",
              "      <th>21/03/20</th>\n",
              "      <td>5709</td>\n",
              "      <td>244</td>\n",
              "      <td>39</td>\n",
              "      <td>23</td>\n",
              "      <td>4</td>\n",
              "      <td>310</td>\n",
              "    </tr>\n",
              "  </tbody>\n",
              "</table>\n",
              "</div>"
            ],
            "text/plain": [
              "           Sno  ConfirmedIndianNational  ...  Deaths  totals\n",
              "Date                                     ...                \n",
              "17/03/20  2775                      113  ...       3     154\n",
              "18/03/20  3417                      126  ...       3     168\n",
              "19/03/20  4161                      148  ...       4     197\n",
              "20/03/20  4770                      191  ...       4     250\n",
              "21/03/20  5709                      244  ...       4     310\n",
              "\n",
              "[5 rows x 6 columns]"
            ]
          },
          "metadata": {
            "tags": []
          },
          "execution_count": 6
        }
      ]
    },
    {
      "cell_type": "code",
      "metadata": {
        "id": "O4dZ78gnMj1o",
        "colab_type": "code",
        "colab": {
          "base_uri": "https://localhost:8080/",
          "height": 282
        },
        "outputId": "d0f211e7-238a-4c6e-a6f5-484d268016be"
      },
      "source": [
        "import matplotlib.pyplot as plt\n",
        "# plt.plot(dataset)\n",
        "dates = [dataset.iloc[i].name for i in range(0,dataset.shape[0]) ]\n",
        "plt.plot(dates,(list(dataset['totals'])))"
      ],
      "execution_count": null,
      "outputs": [
        {
          "output_type": "execute_result",
          "data": {
            "text/plain": [
              "[<matplotlib.lines.Line2D at 0x7f3e5230c240>]"
            ]
          },
          "metadata": {
            "tags": []
          },
          "execution_count": 7
        },
        {
          "output_type": "display_data",
          "data": {
            "image/png": "[encoded data removed]",
            "text/plain": [
              "<Figure size 432x288 with 1 Axes>"
            ]
          },
          "metadata": {
            "tags": [],
            "needs_background": "light"
          }
        }
      ]
    },
    {
      "cell_type": "markdown",
      "metadata": {
        "id": "QUXs2xblurGt",
        "colab_type": "text"
      },
      "source": [
        "## Task -4"
      ]
    },
    {
      "cell_type": "code",
      "metadata": {
        "id": "hYca59okpsug",
        "colab_type": "code",
        "colab": {}
      },
      "source": [
        "rates = []\n",
        "for i in range(0,dataset.shape[0]):\n",
        "  if(dataset.iloc[i].name == '04/03/20'):\n",
        "    for j in range(i,i+17):\n",
        "      rates.append((dataset.iloc[j+1][-1] - dataset.iloc[j][-1]) / dataset.iloc[j][-1] )\n",
        "avg_rate = sum(rates) / len(rates)\n"
      ],
      "execution_count": null,
      "outputs": []
    },
    {
      "cell_type": "code",
      "metadata": {
        "id": "cGF_utDfCEm8",
        "colab_type": "code",
        "colab": {
          "base_uri": "https://localhost:8080/",
          "height": 306
        },
        "outputId": "710faa34-440c-4c59-e691-d4d1e8948fa5"
      },
      "source": [
        "rates"
      ],
      "execution_count": null,
      "outputs": [
        {
          "output_type": "execute_result",
          "data": {
            "text/plain": [
              "[0.06451612903225806,\n",
              " 0.030303030303030304,\n",
              " 0.08823529411764706,\n",
              " 0.13513513513513514,\n",
              " 0.16666666666666666,\n",
              " 0.24489795918367346,\n",
              " 0.03278688524590164,\n",
              " 0.2222222222222222,\n",
              " 0.1038961038961039,\n",
              " 0.12941176470588237,\n",
              " 0.3020833333333333,\n",
              " 0.032,\n",
              " 0.1937984496124031,\n",
              " 0.09090909090909091,\n",
              " 0.17261904761904762,\n",
              " 0.26903553299492383,\n",
              " 0.24]"
            ]
          },
          "metadata": {
            "tags": []
          },
          "execution_count": 11
        }
      ]
    },
    {
      "cell_type": "code",
      "metadata": {
        "id": "Emga4oSGvPs1",
        "colab_type": "code",
        "colab": {
          "base_uri": "https://localhost:8080/",
          "height": 34
        },
        "outputId": "719bddf9-ff17-45da-c22a-105beeb8a815"
      },
      "source": [
        "import math\n",
        "p_t = 31 * (math.exp(avg_rate * 26))\n",
        "print(p_t)\n",
        "\n",
        "#Submit answer as 1459 only"
      ],
      "execution_count": null,
      "outputs": [
        {
          "output_type": "stream",
          "text": [
            "1459.4810275382426\n"
          ],
          "name": "stdout"
        }
      ]
    }
  ]
}