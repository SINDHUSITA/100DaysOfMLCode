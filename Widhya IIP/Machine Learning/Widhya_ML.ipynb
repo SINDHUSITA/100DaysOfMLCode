{
  "nbformat": 4,
  "nbformat_minor": 0,
  "metadata": {
    "colab": {
      "name": "Widhya - ML.ipynb",
      "provenance": [],
      "collapsed_sections": [],
      "authorship_tag": "ABX9TyOGG+hyRvuYNjGI/oc9IOEd",
      "include_colab_link": true
    },
    "kernelspec": {
      "name": "python3",
      "display_name": "Python 3"
    }
  },
  "cells": [
    {
      "cell_type": "markdown",
      "metadata": {
        "id": "view-in-github",
        "colab_type": "text"
      },
      "source": [
        "<a href=\"https://colab.research.google.com/github/SINDHUSITA/100DaysOfMLCode/blob/master/Widhya%20IIP/Machine%20Learning/Widhya_ML.ipynb\" target=\"_parent\"><img src=\"https://colab.research.google.com/assets/colab-badge.svg\" alt=\"Open In Colab\"/></a>"
      ]
    },
    {
      "cell_type": "code",
      "metadata": {
        "id": "cjdHXQvkZWCZ",
        "colab_type": "code",
        "colab": {
          "base_uri": "https://localhost:8080/",
          "height": 72
        },
        "outputId": "94c57eae-a0d2-4386-8708-4fae76a0b53d"
      },
      "source": [
        "import pandas as pd\n",
        "dataset = pd.read_csv('https://raw.githubusercontent.com/WidhyaOrg/datasets/master/instagram_reach.csv')\n",
        "dataset.columns"
      ],
      "execution_count": null,
      "outputs": [
        {
          "output_type": "execute_result",
          "data": {
            "text/plain": [
              "Index(['Unnamed: 0', 'S.No', 'USERNAME', 'Caption', 'Followers', 'Hashtags',\n",
              "       'Time since posted', 'Likes'],\n",
              "      dtype='object')"
            ]
          },
          "metadata": {
            "tags": []
          },
          "execution_count": 50
        }
      ]
    },
    {
      "cell_type": "code",
      "metadata": {
        "id": "tQ1njjokZl3K",
        "colab_type": "code",
        "colab": {
          "base_uri": "https://localhost:8080/",
          "height": 235
        },
        "outputId": "a6ea3685-9b9d-46e0-df0f-9113a9391db7"
      },
      "source": [
        "dataset['Time since posted'] = list(map(lambda x: int(x.replace('hours','').replace('hour','')), dataset['Time since posted']))\n",
        "print(dataset['Time since posted'])"
      ],
      "execution_count": null,
      "outputs": [
        {
          "output_type": "stream",
          "text": [
            "0     11\n",
            "1      2\n",
            "2      2\n",
            "3      3\n",
            "4      3\n",
            "      ..\n",
            "95     3\n",
            "96     3\n",
            "97     3\n",
            "98     3\n",
            "99     3\n",
            "Name: Time since posted, Length: 100, dtype: int64\n"
          ],
          "name": "stdout"
        }
      ]
    },
    {
      "cell_type": "code",
      "metadata": {
        "id": "3YZ-COvPbu17",
        "colab_type": "code",
        "colab": {}
      },
      "source": [
        "from sklearn.model_selection import train_test_split\n",
        "data = pd.DataFrame()\n",
        "data['Followers'] = dataset['Followers']\n",
        "data['Time since posted']=dataset['Time since posted']\n",
        "data.shape\n",
        "X_train, X_test, y_train, y_test = train_test_split(data,dataset['Likes'],train_size=0.8)\n",
        "# print(X_train.head(),X_test.shape,y_train.shape,y_test.head(),)"
      ],
      "execution_count": null,
      "outputs": []
    },
    {
      "cell_type": "code",
      "metadata": {
        "id": "_pqFCocegrUW",
        "colab_type": "code",
        "colab": {
          "base_uri": "https://localhost:8080/",
          "height": 35
        },
        "outputId": "cc73b8f1-78d5-440f-c7e4-fd9411ad6efe"
      },
      "source": [
        "from sklearn.linear_model import LinearRegression\n",
        "classifier = LinearRegression()\n",
        "classifier.fit(X_train,y_train)\n",
        "y_pred = classifier.predict(X_test)\n",
        "# print(y_pred[:5],y_test[:5])\n",
        "classifier.predict([[300,10]])"
      ],
      "execution_count": null,
      "outputs": [
        {
          "output_type": "execute_result",
          "data": {
            "text/plain": [
              "array([97.86465488])"
            ]
          },
          "metadata": {
            "tags": []
          },
          "execution_count": 53
        }
      ]
    },
    {
      "cell_type": "code",
      "metadata": {
        "id": "DafKFeARiFc-",
        "colab_type": "code",
        "colab": {}
      },
      "source": [
        ""
      ],
      "execution_count": null,
      "outputs": []
    }
  ]
}