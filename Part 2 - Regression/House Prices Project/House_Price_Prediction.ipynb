{
  "nbformat": 4,
  "nbformat_minor": 0,
  "metadata": {
    "colab": {
      "name": "House Price Prediction.ipynb",
      "provenance": []
    },
    "kernelspec": {
      "name": "python3",
      "display_name": "Python 3"
    }
  },
  "cells": [
    {
      "cell_type": "markdown",
      "metadata": {
        "id": "VS2mZSVA_uOi",
        "colab_type": "text"
      },
      "source": [
        "**Importing basic packages**"
      ]
    },
    {
      "cell_type": "code",
      "metadata": {
        "id": "qIoP0QYf_qkT",
        "colab_type": "code",
        "colab": {}
      },
      "source": [
        "import numpy as np\n",
        "import pandas as pd\n",
        "import matplotlib.pyplot as plt"
      ],
      "execution_count": 0,
      "outputs": []
    },
    {
      "cell_type": "markdown",
      "metadata": {
        "id": "pYPq9ytpASCv",
        "colab_type": "text"
      },
      "source": [
        "**Importing Data**"
      ]
    },
    {
      "cell_type": "code",
      "metadata": {
        "id": "oZiyqnWlAXyA",
        "colab_type": "code",
        "outputId": "0ab6d2b0-22a8-4c09-c14f-ad6270024f09",
        "colab": {
          "base_uri": "https://localhost:8080/",
          "height": 221
        }
      },
      "source": [
        " train = pd.read_csv('train.csv')\n",
        " test = pd.read_csv('test.csv')\n",
        " df = train\n",
        "#  df = pd.concat([train,test],ignore_index=True)\n",
        " df.dtypes.unique()\n",
        " df['SalePrice']"
      ],
      "execution_count": 748,
      "outputs": [
        {
          "output_type": "execute_result",
          "data": {
            "text/plain": [
              "0       208500\n",
              "1       181500\n",
              "2       223500\n",
              "3       140000\n",
              "4       250000\n",
              "         ...  \n",
              "1455    175000\n",
              "1456    210000\n",
              "1457    266500\n",
              "1458    142125\n",
              "1459    147500\n",
              "Name: SalePrice, Length: 1460, dtype: int64"
            ]
          },
          "metadata": {
            "tags": []
          },
          "execution_count": 748
        }
      ]
    },
    {
      "cell_type": "markdown",
      "metadata": {
        "id": "lrXLnwhXO_lr",
        "colab_type": "text"
      },
      "source": [
        "**Feature Selection**"
      ]
    },
    {
      "cell_type": "code",
      "metadata": {
        "id": "2--Y-0HBgHmf",
        "colab_type": "code",
        "colab": {
          "base_uri": "https://localhost:8080/",
          "height": 68
        },
        "outputId": "938b9deb-22a8-41d3-b545-2f5b3f66997d"
      },
      "source": [
        "corr = df.corr()\n",
        "cats = []\n",
        "count = 0 \n",
        "c=0\n",
        "print('Shape of numeric features before feature selection:',df.shape)\n",
        "for i in corr['SalePrice']:\n",
        "  if(i<0.5):\n",
        "    cats.append(corr.columns[count])\n",
        "    c+=1    \n",
        "  count+=1\n",
        "df.drop(columns=cats,inplace=True)\n",
        "print(c)\n",
        "print('Shape of numeric features after feature selection:',df.shape)\n"
      ],
      "execution_count": 749,
      "outputs": [
        {
          "output_type": "stream",
          "text": [
            "Shape of numeric features before feature selection: (1460, 81)\n",
            "27\n",
            "Shape of numeric features after feature selection: (1460, 54)\n"
          ],
          "name": "stdout"
        }
      ]
    },
    {
      "cell_type": "markdown",
      "metadata": {
        "id": "IZhz5gLID_BZ",
        "colab_type": "text"
      },
      "source": [
        "**Preprocessing Numeric features**"
      ]
    },
    {
      "cell_type": "code",
      "metadata": {
        "id": "dj0a7wZ1EhFw",
        "colab_type": "code",
        "outputId": "3ce66537-bb5a-40d5-bb1a-a53e8a9a5794",
        "colab": {
          "base_uri": "https://localhost:8080/",
          "height": 238
        }
      },
      "source": [
        "#obtaining numeric features (int64 and float64)\n",
        "df_float = df.loc[:,df.dtypes == np.float64]\n",
        "df_int=(df.loc[:,df.dtypes == np.int64])\n",
        "df_num=pd.concat([df_float,df_int],axis=1,ignore_index=False)\n",
        "\n",
        "#missing data handling\n",
        "print(df_num.shape)\n",
        "nulls = pd.DataFrame(df_num.isnull().sum().sort_values(ascending=False).head())\n",
        "print(\"Null count in each column initially: \",nulls)\n",
        "df_num = df_num.interpolate(method='linear', limit_direction='forward', axis=0)\n",
        "nulls = pd.DataFrame(df_num.isnull().sum().sort_values(ascending=False).head())\n",
        "print(\"Null count in each column after handling missing data: \",nulls)\n"
      ],
      "execution_count": 750,
      "outputs": [
        {
          "output_type": "stream",
          "text": [
            "(1460, 11)\n",
            "Null count in each column initially:                0\n",
            "SalePrice     0\n",
            "GarageArea    0\n",
            "GarageCars    0\n",
            "TotRmsAbvGrd  0\n",
            "FullBath      0\n",
            "Null count in each column after handling missing data:                0\n",
            "SalePrice     0\n",
            "GarageArea    0\n",
            "GarageCars    0\n",
            "TotRmsAbvGrd  0\n",
            "FullBath      0\n"
          ],
          "name": "stdout"
        }
      ]
    },
    {
      "cell_type": "markdown",
      "metadata": {
        "id": "YMd52SMGPSU8",
        "colab_type": "text"
      },
      "source": [
        "###**Preprocessing Categorical Features**"
      ]
    },
    {
      "cell_type": "markdown",
      "metadata": {
        "id": "OhgGs9Z24zcl",
        "colab_type": "text"
      },
      "source": [
        "**Handling missing data in categorical data**"
      ]
    },
    {
      "cell_type": "code",
      "metadata": {
        "id": "_8cAK6AI4zr4",
        "colab_type": "code",
        "colab": {
          "base_uri": "https://localhost:8080/",
          "height": 136
        },
        "outputId": "3b46a44e-ea2e-4459-ad37-0bba257125e4"
      },
      "source": [
        "#obtaining categorical features\n",
        "df_cat=df.select_dtypes(exclude=[np.int64,np.float64])\n",
        "df_cat=df_cat.astype('str')\n",
        "\n",
        "#handling missing data in categorical features\n",
        "nulls = pd.DataFrame(df_cat.isnull().sum().sort_values(ascending=False).head())\n",
        "print(\"Null count in each column initially:\",nulls) #clearly there are no null values\n",
        "len(np.unique(df_cat.values))"
      ],
      "execution_count": 751,
      "outputs": [
        {
          "output_type": "stream",
          "text": [
            "Null count in each column initially:                0\n",
            "SaleCondition  0\n",
            "Condition2     0\n",
            "ExterQual      0\n",
            "MasVnrType     0\n",
            "Exterior2nd    0\n"
          ],
          "name": "stdout"
        },
        {
          "output_type": "execute_result",
          "data": {
            "text/plain": [
              "175"
            ]
          },
          "metadata": {
            "tags": []
          },
          "execution_count": 751
        }
      ]
    },
    {
      "cell_type": "markdown",
      "metadata": {
        "id": "QdVo-bsXQYZg",
        "colab_type": "text"
      },
      "source": [
        "**Encoding Categorical data**"
      ]
    },
    {
      "cell_type": "code",
      "metadata": {
        "id": "EI89ZiZQQYrE",
        "colab_type": "code",
        "colab": {}
      },
      "source": [
        "# # from sklearn.compose import ColumnTransformer\n",
        "# # from sklearn.preprocessing import OneHotEncoder\n",
        "# print(df_cat.shape)\n",
        "# # for i in range(0,len(df_cat.columns)):\n",
        "# #   ct = ColumnTransformer(transformers=[('encoder', OneHotEncoder(),[i])], remainder='passthrough')\n",
        "# #   df_cat = pd.DataFrame(ct.fit_transform(df_cat))\n",
        "# # print(df_cat.columns)\n",
        "\n",
        "# df_cat = pd.get_dummies(df_cat)\n",
        "# df_cat.shape\n",
        "\n",
        "from sklearn.preprocessing import LabelEncoder\n",
        "labelencoder = LabelEncoder()\n",
        "df_cat = df_cat.apply(lambda col: labelencoder.fit_transform(col.astype(str)))"
      ],
      "execution_count": 0,
      "outputs": []
    },
    {
      "cell_type": "markdown",
      "metadata": {
        "id": "IQrdJR_IFNIf",
        "colab_type": "text"
      },
      "source": [
        "**Splitting Train and Test Data**"
      ]
    },
    {
      "cell_type": "code",
      "metadata": {
        "id": "k1xrRRcsOCA_",
        "colab_type": "code",
        "colab": {}
      },
      "source": [
        "#concatenating numerical and categorical features\n",
        "df_num.drop(columns='SalePrice',inplace=True)\n",
        "df_total = pd.concat([df_num,df_cat],axis=1,ignore_index=False)"
      ],
      "execution_count": 0,
      "outputs": []
    },
    {
      "cell_type": "code",
      "metadata": {
        "id": "DFya7kwYFNXP",
        "colab_type": "code",
        "colab": {
          "base_uri": "https://localhost:8080/",
          "height": 34
        },
        "outputId": "d3cf5149-655d-4c96-a75c-c5b30400b3dc"
      },
      "source": [
        "#Splitting as X, y\n",
        "X = df_total\n",
        "y = df['SalePrice']\n",
        "\n",
        "#Splitting train and test\n",
        "from sklearn.model_selection import train_test_split\n",
        "X_train, X_test, y_train, y_test = train_test_split(X,y,test_size=0.25,random_state=5)\n",
        "print(X_train.shape,X_test.shape,y_train.shape,y_test.shape)"
      ],
      "execution_count": 754,
      "outputs": [
        {
          "output_type": "stream",
          "text": [
            "(1095, 53) (365, 53) (1095,) (365,)\n"
          ],
          "name": "stdout"
        }
      ]
    },
    {
      "cell_type": "markdown",
      "metadata": {
        "id": "hbi1Ipl3Bx1_",
        "colab_type": "text"
      },
      "source": [
        "**Feature Scaling**"
      ]
    },
    {
      "cell_type": "code",
      "metadata": {
        "id": "KHrSfC1nByIi",
        "colab_type": "code",
        "colab": {}
      },
      "source": [
        "y_train= y_train.values.reshape(-1,1)\n",
        "y_test= y_test.values.reshape(-1,1)\n",
        "\n",
        "from sklearn.preprocessing import StandardScaler\n",
        "sc_X = StandardScaler()\n",
        "sc_y = StandardScaler()\n",
        "X_train = sc_X.fit_transform(X_train)\n",
        "X_test = sc_X.fit_transform(X_test)\n",
        "y_train = sc_X.fit_transform(y_train)\n",
        "y_test = sc_y.fit_transform(y_test)\n"
      ],
      "execution_count": 0,
      "outputs": []
    },
    {
      "cell_type": "markdown",
      "metadata": {
        "id": "xHMkBKh3q9-T",
        "colab_type": "text"
      },
      "source": [
        "##**Training the model using various algortims**"
      ]
    },
    {
      "cell_type": "markdown",
      "metadata": {
        "id": "dNFVUi1yrPMU",
        "colab_type": "text"
      },
      "source": [
        "**1. Training using Multi Linear Regression**"
      ]
    },
    {
      "cell_type": "code",
      "metadata": {
        "id": "nVL4FIZ5r84R",
        "colab_type": "code",
        "colab": {
          "base_uri": "https://localhost:8080/",
          "height": 34
        },
        "outputId": "391a7afd-abdd-4fd2-ce23-56906299763d"
      },
      "source": [
        "from sklearn.linear_model import LinearRegression\n",
        "regressor1 = LinearRegression()\n",
        "regressor1.fit(X_train,y_train)"
      ],
      "execution_count": 756,
      "outputs": [
        {
          "output_type": "execute_result",
          "data": {
            "text/plain": [
              "LinearRegression(copy_X=True, fit_intercept=True, n_jobs=None, normalize=False)"
            ]
          },
          "metadata": {
            "tags": []
          },
          "execution_count": 756
        }
      ]
    },
    {
      "cell_type": "markdown",
      "metadata": {
        "id": "9We-B0CtrSQY",
        "colab_type": "text"
      },
      "source": [
        "**2. Training using Polynomial Regression**"
      ]
    },
    {
      "cell_type": "code",
      "metadata": {
        "id": "nPUv4HKfzoLc",
        "colab_type": "code",
        "colab": {}
      },
      "source": [
        "# from sklearn.preprocessing import PolynomialFeatures\n",
        "# plr = PolynomialFeatures(degree=2)\n",
        "# X_poly = plr.fit_transform(X_train)\n",
        "# regressor2 = LinearRegression()\n",
        "# regressor2.fit(X_poly,y_train)"
      ],
      "execution_count": 0,
      "outputs": []
    },
    {
      "cell_type": "markdown",
      "metadata": {
        "id": "ncXN94_pra4r",
        "colab_type": "text"
      },
      "source": [
        "**3. Training using Decision Tree Regressor**"
      ]
    },
    {
      "cell_type": "code",
      "metadata": {
        "id": "R4nwBODi0CA0",
        "colab_type": "code",
        "colab": {
          "base_uri": "https://localhost:8080/",
          "height": 119
        },
        "outputId": "4d28a4fa-bc91-4030-f80f-45dee6efff31"
      },
      "source": [
        "from sklearn.tree import DecisionTreeRegressor\n",
        "regressor3 = DecisionTreeRegressor()\n",
        "regressor3.fit(X_train,y_train)"
      ],
      "execution_count": 758,
      "outputs": [
        {
          "output_type": "execute_result",
          "data": {
            "text/plain": [
              "DecisionTreeRegressor(ccp_alpha=0.0, criterion='mse', max_depth=None,\n",
              "                      max_features=None, max_leaf_nodes=None,\n",
              "                      min_impurity_decrease=0.0, min_impurity_split=None,\n",
              "                      min_samples_leaf=1, min_samples_split=2,\n",
              "                      min_weight_fraction_leaf=0.0, presort='deprecated',\n",
              "                      random_state=None, splitter='best')"
            ]
          },
          "metadata": {
            "tags": []
          },
          "execution_count": 758
        }
      ]
    },
    {
      "cell_type": "markdown",
      "metadata": {
        "id": "cbXaUD3BrbEx",
        "colab_type": "text"
      },
      "source": [
        "**4. Training using Random Forest Regressor**"
      ]
    },
    {
      "cell_type": "code",
      "metadata": {
        "id": "wltkud9o0Cve",
        "colab_type": "code",
        "colab": {
          "base_uri": "https://localhost:8080/",
          "height": 190
        },
        "outputId": "ec94966a-ee86-48ad-d218-3a408fa4f6c3"
      },
      "source": [
        "from sklearn.ensemble import RandomForestRegressor\n",
        "regressor4 = RandomForestRegressor(n_estimators=10,random_state=1)\n",
        "regressor4.fit(X_train,y_train)"
      ],
      "execution_count": 759,
      "outputs": [
        {
          "output_type": "stream",
          "text": [
            "/usr/local/lib/python3.6/dist-packages/ipykernel_launcher.py:3: DataConversionWarning: A column-vector y was passed when a 1d array was expected. Please change the shape of y to (n_samples,), for example using ravel().\n",
            "  This is separate from the ipykernel package so we can avoid doing imports until\n"
          ],
          "name": "stderr"
        },
        {
          "output_type": "execute_result",
          "data": {
            "text/plain": [
              "RandomForestRegressor(bootstrap=True, ccp_alpha=0.0, criterion='mse',\n",
              "                      max_depth=None, max_features='auto', max_leaf_nodes=None,\n",
              "                      max_samples=None, min_impurity_decrease=0.0,\n",
              "                      min_impurity_split=None, min_samples_leaf=1,\n",
              "                      min_samples_split=2, min_weight_fraction_leaf=0.0,\n",
              "                      n_estimators=10, n_jobs=None, oob_score=False,\n",
              "                      random_state=1, verbose=0, warm_start=False)"
            ]
          },
          "metadata": {
            "tags": []
          },
          "execution_count": 759
        }
      ]
    },
    {
      "cell_type": "markdown",
      "metadata": {
        "id": "ch0qsFuQHjcU",
        "colab_type": "text"
      },
      "source": [
        "**5. Training using Support Vector Regressor**"
      ]
    },
    {
      "cell_type": "code",
      "metadata": {
        "id": "lb7ztZN7Hjsa",
        "colab_type": "code",
        "colab": {
          "base_uri": "https://localhost:8080/",
          "height": 105
        },
        "outputId": "53cfe50b-678d-405c-a6a0-b0b2ec3d0997"
      },
      "source": [
        "from sklearn.svm import SVR\n",
        "regressor5 = SVR(kernel='rbf')\n",
        "regressor5.fit(X_train,y_train)"
      ],
      "execution_count": 760,
      "outputs": [
        {
          "output_type": "stream",
          "text": [
            "/usr/local/lib/python3.6/dist-packages/sklearn/utils/validation.py:760: DataConversionWarning: A column-vector y was passed when a 1d array was expected. Please change the shape of y to (n_samples, ), for example using ravel().\n",
            "  y = column_or_1d(y, warn=True)\n"
          ],
          "name": "stderr"
        },
        {
          "output_type": "execute_result",
          "data": {
            "text/plain": [
              "SVR(C=1.0, cache_size=200, coef0=0.0, degree=3, epsilon=0.1, gamma='scale',\n",
              "    kernel='rbf', max_iter=-1, shrinking=True, tol=0.001, verbose=False)"
            ]
          },
          "metadata": {
            "tags": []
          },
          "execution_count": 760
        }
      ]
    },
    {
      "cell_type": "markdown",
      "metadata": {
        "id": "ocGwmCC_5O4P",
        "colab_type": "text"
      },
      "source": [
        "##**Testing above models**"
      ]
    },
    {
      "cell_type": "markdown",
      "metadata": {
        "id": "MCfZOVe75Pkl",
        "colab_type": "text"
      },
      "source": [
        "**1. Testing using Multi Linear Regression**"
      ]
    },
    {
      "cell_type": "code",
      "metadata": {
        "id": "hOPXMcf27Kdy",
        "colab_type": "code",
        "colab": {}
      },
      "source": [
        "y_pred1 = regressor1.predict(X_test)"
      ],
      "execution_count": 0,
      "outputs": []
    },
    {
      "cell_type": "markdown",
      "metadata": {
        "id": "18xSTJ5l5Pp1",
        "colab_type": "text"
      },
      "source": [
        "**2. Testing using Polynomial Regression**"
      ]
    },
    {
      "cell_type": "code",
      "metadata": {
        "id": "FEnwtRIA7MWg",
        "colab_type": "code",
        "colab": {}
      },
      "source": [
        "# y_pred2 = regressor2.predict(plr.fit_transform(X_test))"
      ],
      "execution_count": 0,
      "outputs": []
    },
    {
      "cell_type": "markdown",
      "metadata": {
        "id": "i6l1P7MD5PvK",
        "colab_type": "text"
      },
      "source": [
        "**3. Testing using Decision Tree Regression**"
      ]
    },
    {
      "cell_type": "code",
      "metadata": {
        "id": "QCzJ66Vj7Nxm",
        "colab_type": "code",
        "colab": {}
      },
      "source": [
        "y_pred3 = regressor3.predict(X_test)"
      ],
      "execution_count": 0,
      "outputs": []
    },
    {
      "cell_type": "markdown",
      "metadata": {
        "id": "tec0Eb6t5P17",
        "colab_type": "text"
      },
      "source": [
        "**4. Testing using Random Forest Regression**"
      ]
    },
    {
      "cell_type": "code",
      "metadata": {
        "id": "tU1-Go_J7Oyy",
        "colab_type": "code",
        "colab": {}
      },
      "source": [
        "y_pred4 = regressor4.predict(X_test)"
      ],
      "execution_count": 0,
      "outputs": []
    },
    {
      "cell_type": "markdown",
      "metadata": {
        "id": "Cz1UkHjTH4QQ",
        "colab_type": "text"
      },
      "source": [
        "**5. Testing using Support Vector Regression**"
      ]
    },
    {
      "cell_type": "code",
      "metadata": {
        "id": "QSSMxyvkH4d5",
        "colab_type": "code",
        "colab": {}
      },
      "source": [
        "y_pred5 = regressor5.predict(X_test)"
      ],
      "execution_count": 0,
      "outputs": []
    },
    {
      "cell_type": "markdown",
      "metadata": {
        "id": "nWp3VftN5_-g",
        "colab_type": "text"
      },
      "source": [
        "##**Evaluating each model using R-squared test**"
      ]
    },
    {
      "cell_type": "code",
      "metadata": {
        "id": "LAl_FUH17kak",
        "colab_type": "code",
        "colab": {}
      },
      "source": [
        "from sklearn.metrics import r2_score, accuracy_score"
      ],
      "execution_count": 0,
      "outputs": []
    },
    {
      "cell_type": "markdown",
      "metadata": {
        "id": "6pnRqKV_6AFI",
        "colab_type": "text"
      },
      "source": [
        "**1. Evaluating the Multi Linear Regression**"
      ]
    },
    {
      "cell_type": "code",
      "metadata": {
        "id": "RkwtOVcS7gdB",
        "colab_type": "code",
        "colab": {
          "base_uri": "https://localhost:8080/",
          "height": 34
        },
        "outputId": "36779695-e87e-452d-9a2e-bb0261f6705a"
      },
      "source": [
        "r2_score(y_test, y_pred1)"
      ],
      "execution_count": 767,
      "outputs": [
        {
          "output_type": "execute_result",
          "data": {
            "text/plain": [
              "0.8287837372976723"
            ]
          },
          "metadata": {
            "tags": []
          },
          "execution_count": 767
        }
      ]
    },
    {
      "cell_type": "markdown",
      "metadata": {
        "id": "t7fgT2VE6ANg",
        "colab_type": "text"
      },
      "source": [
        "**2. Evaluating the Polynomial Regression**"
      ]
    },
    {
      "cell_type": "code",
      "metadata": {
        "id": "aWFldpGa7hGp",
        "colab_type": "code",
        "colab": {}
      },
      "source": [
        "# r2_score(y_test, y_pred2)"
      ],
      "execution_count": 0,
      "outputs": []
    },
    {
      "cell_type": "markdown",
      "metadata": {
        "id": "7IcN_lWV6AXs",
        "colab_type": "text"
      },
      "source": [
        "**3. Evaluating the Decision Tree Regression**"
      ]
    },
    {
      "cell_type": "code",
      "metadata": {
        "id": "7fkoY49_7iU8",
        "colab_type": "code",
        "colab": {
          "base_uri": "https://localhost:8080/",
          "height": 34
        },
        "outputId": "255a2959-5e3d-4e07-cf81-f62be76d87ea"
      },
      "source": [
        "r2_score(y_test, y_pred3)"
      ],
      "execution_count": 769,
      "outputs": [
        {
          "output_type": "execute_result",
          "data": {
            "text/plain": [
              "0.7904622433120827"
            ]
          },
          "metadata": {
            "tags": []
          },
          "execution_count": 769
        }
      ]
    },
    {
      "cell_type": "markdown",
      "metadata": {
        "id": "QT18DMhG65vg",
        "colab_type": "text"
      },
      "source": [
        "**4. Evaluating the Random Forest Regression**"
      ]
    },
    {
      "cell_type": "code",
      "metadata": {
        "id": "6oN5Py5K7jSK",
        "colab_type": "code",
        "colab": {
          "base_uri": "https://localhost:8080/",
          "height": 34
        },
        "outputId": "91e3750d-6bfc-47b2-bbfe-692d2c02ba50"
      },
      "source": [
        "r2_score(y_test, y_pred4)"
      ],
      "execution_count": 770,
      "outputs": [
        {
          "output_type": "execute_result",
          "data": {
            "text/plain": [
              "0.8563583620570294"
            ]
          },
          "metadata": {
            "tags": []
          },
          "execution_count": 770
        }
      ]
    },
    {
      "cell_type": "markdown",
      "metadata": {
        "id": "_NmbwzNSIAPo",
        "colab_type": "text"
      },
      "source": [
        "**5. Evaluating the Support Vector Regression**"
      ]
    },
    {
      "cell_type": "code",
      "metadata": {
        "id": "trDwlJaqIAgA",
        "colab_type": "code",
        "colab": {
          "base_uri": "https://localhost:8080/",
          "height": 34
        },
        "outputId": "35b332c1-5cd0-4cbb-fea9-a3677daede51"
      },
      "source": [
        "r2_score(y_test, y_pred5)"
      ],
      "execution_count": 771,
      "outputs": [
        {
          "output_type": "execute_result",
          "data": {
            "text/plain": [
              "0.7424619956135614"
            ]
          },
          "metadata": {
            "tags": []
          },
          "execution_count": 771
        }
      ]
    },
    {
      "cell_type": "markdown",
      "metadata": {
        "id": "yW-r-cVc68qk",
        "colab_type": "text"
      },
      "source": [
        "##**Predicting the prices using the Best Model**"
      ]
    }
  ]
}